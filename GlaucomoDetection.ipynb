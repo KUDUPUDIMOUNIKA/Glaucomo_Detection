{
  "nbformat": 4,
  "nbformat_minor": 0,
  "metadata": {
    "colab": {
      "provenance": [],
      "mount_file_id": "1cxpgMCC_7iSL90v26QlwktpQDGA6lH17",
      "authorship_tag": "ABX9TyO+qcPZPqPFuBbhp7XoApxP",
      "include_colab_link": true
    },
    "kernelspec": {
      "name": "python3",
      "display_name": "Python 3"
    },
    "language_info": {
      "name": "python"
    }
  },
  "cells": [
    {
      "cell_type": "markdown",
      "metadata": {
        "id": "view-in-github",
        "colab_type": "text"
      },
      "source": [
        "<a href=\"https://colab.research.google.com/github/KUDUPUDIMOUNIKA/Glaucomo_Detection/blob/master/GlaucomoDetection.ipynb\" target=\"_parent\"><img src=\"https://colab.research.google.com/assets/colab-badge.svg\" alt=\"Open In Colab\"/></a>"
      ]
    },
    {
      "cell_type": "code",
      "execution_count": null,
      "metadata": {
        "colab": {
          "base_uri": "https://localhost:8080/"
        },
        "id": "DPRGGKZaVtFX",
        "outputId": "6659d5ae-528b-4a56-b004-a7552724066f"
      },
      "outputs": [
        {
          "output_type": "stream",
          "name": "stdout",
          "text": [
            "Drive already mounted at /content/drive; to attempt to forcibly remount, call drive.mount(\"/content/drive\", force_remount=True).\n"
          ]
        }
      ],
      "source": [
        "from google.colab import drive\n",
        "drive.mount('/content/drive')\n"
      ]
    },
    {
      "cell_type": "code",
      "source": [
        "from google.colab import drive\n",
        "drive.flush_and_unmount()"
      ],
      "metadata": {
        "id": "4a0j07yXXIpt"
      },
      "execution_count": null,
      "outputs": []
    },
    {
      "cell_type": "code",
      "source": [
        "import matplotlib.pyplot as plt\n",
        "import numpy as np\n",
        "import os\n",
        "import shutil\n",
        "from tensorflow import keras\n",
        "import seaborn as sns\n",
        "import random\n",
        "from keras.models import load_model\n",
        "from keras.preprocessing import image\n",
        "from tensorflow.keras.preprocessing.image import load_img, img_to_array"
      ],
      "metadata": {
        "id": "W1N4taPMXaup"
      },
      "execution_count": null,
      "outputs": []
    },
    {
      "cell_type": "code",
      "source": [
        "current_dir = os.getcwd()\n",
        "print(current_dir)"
      ],
      "metadata": {
        "colab": {
          "base_uri": "https://localhost:8080/"
        },
        "id": "T3nRaZOLXeBy",
        "outputId": "5ea037eb-5ee4-4257-dd3d-54e307d2203e"
      },
      "execution_count": null,
      "outputs": [
        {
          "output_type": "stream",
          "name": "stdout",
          "text": [
            "/content\n"
          ]
        }
      ]
    },
    {
      "cell_type": "code",
      "source": [
        "dristhi_glaucoma_images = os.listdir(train_glaucoma_dir)+os.listdir(test_glaucoma_dir)\n",
        "dristhi_normal_images = os.listdir(train_normal_dir)+os.listdir(test_normal_dir)\n"
      ],
      "metadata": {
        "id": "qJeq1FJXTLQt"
      },
      "execution_count": null,
      "outputs": []
    },
    {
      "cell_type": "code",
      "source": [
        "dristhi_dir = current_dir + '/content/drive/MyDrive/datasets/Dristhi'\n",
        "train_glaucoma_dir =  \"/content/drive/MyDrive/datasets/Dristhi/Training/Training/Images/GLAUCOMA\"\n",
        "train_normal_dir =  \"/content/drive/MyDrive/datasets/Dristhi/Training/Training/Images/NORMAL\"\n",
        "test_glaucoma_dir =  \"/content/drive/MyDrive/datasets/Dristhi/Test/Test/Images/glaucoma\"\n",
        "test_normal_dir =  \"/content/drive/MyDrive/datasets/Dristhi/Test/Test/Images/normal\"\n",
        "dristhi_glaucoma_images = os.listdir(train_glaucoma_dir)+os.listdir(test_glaucoma_dir)\n",
        "dristhi_normal_images = os.listdir(train_normal_dir)+os.listdir(test_normal_dir)\n",
        "\n",
        "# Look at the number of samples in each dataset\n",
        "print(\"Dristhi dataset contains :\")\n",
        "print(f\"\\t{len(dristhi_glaucoma_images)} images representing an eye with glaucoma\")\n",
        "print(f\"\\t{len(dristhi_normal_images)} images representing a normal eye\")\n"
      ],
      "metadata": {
        "colab": {
          "base_uri": "https://localhost:8080/"
        },
        "id": "7a_PwHPkXjww",
        "outputId": "708597af-dc04-4da4-b16c-8902e7cb0e50"
      },
      "execution_count": null,
      "outputs": [
        {
          "output_type": "stream",
          "name": "stdout",
          "text": [
            "Dristhi dataset contains :\n",
            "\t70 images representing an eye with glaucoma\n",
            "\t31 images representing a normal eye\n"
          ]
        }
      ]
    },
    {
      "cell_type": "markdown",
      "source": [
        "# New Section"
      ],
      "metadata": {
        "id": "DEMHcPSeYTiV"
      }
    }
  ]
}